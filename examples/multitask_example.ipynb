{
 "cells": [
  {
   "attachments": {},
   "cell_type": "markdown",
   "metadata": {},
   "source": [
    "# Example notebook for Multitask Neural Decoding code"
   ]
  },
  {
   "attachments": {},
   "cell_type": "markdown",
   "metadata": {},
   "source": [
    "---"
   ]
  },
  {
   "attachments": {},
   "cell_type": "markdown",
   "metadata": {},
   "source": [
    "### Introduction\n",
    "This is an example notebook to show the framework to train and evaluate a model using the multitask neural decoding codebase. After the relevant packages are installed, the entire notebook is self-contained and should run entirely in the Jupyter Notebook!\n",
    "\n",
    "### Project Goal\n",
    "\n",
    "GOAL: Find a good mapping from input data to output data.\n",
    "\n",
    "We want to develop a more interpretable and better performing method of neural decoding across different types of input data. The input data could include data from multiple different distributions, but a robust model should still be able to perform good decoding. The model is trained to perform clustering of the data into separate modes and uses the learned clustering to compute a weighted average over the different decoders in the model. The learned clustering information can be extracted for downstream analysis, which is explained in the \"Evaluate trained model\" section.\n",
    "\n",
    "### Code\n",
    "The code loads a custom dataset, trains a model to decode the output from input, and evaluates the trained model (more details later in the notebook).\n",
    "\n",
    "Feel free to reach out to Andrew at andrewshen2025@u.northwestern.edu if you have any questions!\n"
   ]
  },
  {
   "attachments": {},
   "cell_type": "markdown",
   "metadata": {},
   "source": [
    "---"
   ]
  },
  {
   "attachments": {},
   "cell_type": "markdown",
   "metadata": {},
   "source": [
    "### Define paths to custom dataset \n",
    "\n",
    "You need to set the paths to the training and validation datasets in numpy format for the custom dataset. An example dataset is provided in \"example_custom_dataset\".\n",
    "\n",
    "A quick clarification on variable names for training!\n",
    "- input: the numerical values for a sample of input data \n",
    "- output: the numerical values for a sample of output data "
   ]
  },
  {
   "cell_type": "code",
   "execution_count": 15,
   "metadata": {},
   "outputs": [],
   "source": [
    "# SET THESE TO YOUR OWN PATHS FOR TRAINING DATASETS\n",
    "input_train_path = \"example_custom_dataset/input_train.npy\"\n",
    "output_train_path = \"example_custom_dataset/output_train.npy\"\n",
    "# SET THESE TO YOUR OWN PATHS FOR VALIATION DATASETS\n",
    "input_val_path = \"example_custom_dataset/input_val.npy\"\n",
    "output_val_path = \"example_custom_dataset/output_val.npy\""
   ]
  },
  {
   "attachments": {},
   "cell_type": "markdown",
   "metadata": {},
   "source": [
    "### Import packages"
   ]
  },
  {
   "attachments": {},
   "cell_type": "markdown",
   "metadata": {},
   "source": [
    "See the provided \"requirements.txt\" file for specific versions of the installed packages."
   ]
  },
  {
   "cell_type": "code",
   "execution_count": 16,
   "metadata": {},
   "outputs": [],
   "source": [
    "import os\n",
    "import torch\n",
    "import torch.nn as nn\n",
    "import torch.nn.functional as F\n",
    "import torch.optim as optim\n",
    "import numpy as np\n",
    "import matplotlib.pyplot as plt\n",
    "import pytorch_lightning as pl\n",
    "from pytorch_lightning import LightningModule\n",
    "from pytorch_lightning import Trainer\n",
    "from pytorch_lightning.loggers import WandbLogger\n",
    "from pytorch_lightning.callbacks import ModelCheckpoint\n",
    "from pytorch_lightning.utilities import disable_possible_user_warnings\n",
    "from torch.utils.data import DataLoader\n",
    "from sklearn.metrics import r2_score"
   ]
  },
  {
   "attachments": {},
   "cell_type": "markdown",
   "metadata": {},
   "source": [
    "###  Define custom dataset"
   ]
  },
  {
   "cell_type": "code",
   "execution_count": 17,
   "metadata": {},
   "outputs": [],
   "source": [
    "class Dataset_Custom(pl.LightningDataModule):\n",
    "    \"\"\"\n",
    "    Format of each sample in custom dataset: (input data, output data, label)\n",
    "\n",
    "    Ex: For example custom dataset with input_dim=95 and output_dim=16\n",
    "    (tensor([2.5611, 1.2971, 0.7090, 0.9327, 4.2201, 1.1360, 0.5110, 2.6609, 0.2422,\n",
    "        0.0000, 0.7357, 2.1263, 0.9272, 2.0391, 2.4139, 1.3121, 2.7412, 0.8519,\n",
    "        1.6456, 0.6171, 0.5245, 3.2119, 0.8513, 1.5261, 1.0906, 2.1694, 1.5558,\n",
    "        2.1784, 1.7563, 3.8693, 1.7945, 2.6794, 4.2998, 2.9552, 1.7912, 1.9162,\n",
    "        1.5148, 0.9489, 4.0711, 1.4851, 0.6682, 1.8905, 3.1402, 1.5024, 0.7209,\n",
    "        0.5516, 1.1371, 2.6699, 2.4621, 2.3039, 1.5001, 0.8161, 1.2647, 0.8475,\n",
    "        1.0783, 0.6021, 1.1103, 1.4497, 1.1852, 1.2961, 0.6654, 0.2433, 2.4981,\n",
    "        1.3982, 1.5237, 1.4347, 1.7953, 2.0746, 1.5488, 1.0058, 4.2330, 2.4696,\n",
    "        1.5771, 1.4689, 2.3716, 1.1870, 2.2239, 4.0568, 1.7596, 2.2208, 2.9787,\n",
    "        2.7364, 1.5793, 0.3041, 2.0491, 2.8336, 0.2575, 1.3711, 2.1987, 0.7316,\n",
    "        2.1494, 0.5839, 2.0408, 4.3838, 3.2163]), tensor([36.4070, 38.6035, 57.3357,  9.2077, 10.2813, 20.2003,  9.8427, 17.1796,\n",
    "        53.2993, 16.0262, 19.3980, 18.1566, 30.4801, 30.9933, 43.3886, 33.1731]))\n",
    "    \"\"\"\n",
    "    \n",
    "    def __init__(self, input_train_path,\n",
    "                       output_train_path,\n",
    "                       input_val_path,\n",
    "                       output_val_path, num_modes, batch_size):\n",
    "        super().__init__()\n",
    "        self.batch_size = batch_size\n",
    "        self.num_modes = num_modes\n",
    "        self.train_dataset = None\n",
    "        self.val_dataset = None\n",
    "        self.input_dim = None\n",
    "        self.output_dim = None\n",
    "\n",
    "        # Read in data\n",
    "        input_train = torch.Tensor(np.load(input_train_path))\n",
    "        output_train = torch.Tensor(np.load(output_train_path))\n",
    "        input_val = torch.Tensor(np.load(input_val_path))\n",
    "        output_val = torch.Tensor(np.load(output_val_path))\n",
    "\n",
    "        # Account for inputs with 1-dimensional features\n",
    "        if len(input_train.shape) == 1:\n",
    "            input_train = input_train.unsqueeze(1)\n",
    "            input_val = input_val.unsqueeze(1)\n",
    "\n",
    "        self.train_dataset = [(input_train[i], output_train[i]) for i in range(len(input_train))]\n",
    "        self.val_dataset = [(input_val[i], output_val[i]) for i in range(len(input_val))]\n",
    "        self.input_dim = input_train.size()[1]\n",
    "        self.output_dim = output_train.size()[1]\n",
    "            \n",
    "\n",
    "    def __len__(self):\n",
    "        \"\"\"\n",
    "        Returns number of samples in the training set.\n",
    "        \"\"\"\n",
    "        \n",
    "        return len(self.train_dataset) + len(self.val_dataset)\n",
    "\n",
    "\n",
    "    def __getitem__(self, index):\n",
    "\n",
    "        # Not used for the training\n",
    "        return self.train_dataset[index]\n",
    "\n",
    "\n",
    "    def collate_fn(self, batch):\n",
    "        \n",
    "        final_batch = {}\n",
    "        X = []  # input\n",
    "        Y1 = []  # output\n",
    "        for sample in batch:\n",
    "            X.append(sample[0])\n",
    "            Y1.append(sample[1])\n",
    "        final_batch[\"input\"] = torch.stack(X)\n",
    "        final_batch[\"output\"] = torch.stack(Y1).float()\n",
    "\n",
    "        return final_batch\n",
    "\n",
    "\n",
    "    def train_dataloader(self):\n",
    "        return DataLoader(self.train_dataset, batch_size=self.batch_size, collate_fn=self.collate_fn, shuffle=True)\n",
    "\n",
    "\n",
    "    def val_dataloader(self):\n",
    "        return DataLoader(self.val_dataset, batch_size=self.batch_size, collate_fn=self.collate_fn)"
   ]
  },
  {
   "attachments": {},
   "cell_type": "markdown",
   "metadata": {},
   "source": [
    "### Define model"
   ]
  },
  {
   "cell_type": "code",
   "execution_count": 18,
   "metadata": {},
   "outputs": [],
   "source": [
    "# Clustering model\n",
    "class ClusterModel(nn.Module):\n",
    "    \"\"\"\n",
    "    input_dim: N\n",
    "    num_modes: d\n",
    "    \"\"\"\n",
    "\n",
    "    def __init__(self, input_dim, num_modes):\n",
    "        super().__init__()\n",
    "        self.linears = nn.ModuleList([nn.Linear(input_dim, 1) for i in range(num_modes)])\n",
    "        self.softmax = nn.Softmax(dim=2)\n",
    "\n",
    "    def forward(self, x):\n",
    "        x_d = []\n",
    "        for linear in self.linears:\n",
    "            x_d.append(linear(x))\n",
    "        x = torch.stack(x_d, 2)\n",
    "        x = self.softmax(x) \n",
    "        return x\n",
    "    \n",
    "    \n",
    "# Decoding model\n",
    "class DecoderModel(nn.Module):\n",
    "    \"\"\"\n",
    "    input_dim: N\n",
    "    output_dim: M\n",
    "    num_modes: d\n",
    "    \"\"\"\n",
    "    \n",
    "    def __init__(self, input_dim, output_dim, num_modes):\n",
    "        super().__init__()\n",
    "        self.linears = nn.ModuleList([nn.Linear(input_dim, output_dim) for i in range(num_modes)])\n",
    "    \n",
    "    def forward(self, x):\n",
    "        x_d = []\n",
    "        for linear in self.linears:\n",
    "            x_d.append(linear(x))\n",
    "        x = torch.stack(x_d, 2)\n",
    "        return x\n",
    "\n",
    "\n",
    "class CombinedModel(nn.Module):\n",
    "    \"\"\"\n",
    "    self.cm stores an instance of the cluster model\n",
    "    self.dm stores an instance of the decoding model\n",
    "    \"\"\"\n",
    "\n",
    "    def __init__(self, input_dim, output_dim, num_modes, ev):\n",
    "        super(CombinedModel, self).__init__()\n",
    "        self.cm = ClusterModel(input_dim, num_modes)\n",
    "        self.dm = DecoderModel(input_dim, output_dim, num_modes)\n",
    "        self.ev = ev\n",
    "\n",
    "    def forward(self, x):\n",
    "        x1 = self.cm(x)\n",
    "        x2 = self.dm(x)\n",
    "        output = torch.sum(x1 * x2, dim=-1)\n",
    "\n",
    "        # Return softmax outputs if mode is \"eval\"\n",
    "        if self.ev == True:\n",
    "            return x1\n",
    "        return output"
   ]
  },
  {
   "attachments": {},
   "cell_type": "markdown",
   "metadata": {},
   "source": [
    "### Define training module"
   ]
  },
  {
   "cell_type": "code",
   "execution_count": 19,
   "metadata": {},
   "outputs": [],
   "source": [
    "class TrainingModule(LightningModule):\n",
    "\n",
    "    def __init__(self, model, lr, weight_decay):\n",
    "        super().__init__()\n",
    "        self.model = model\n",
    "        self.lr = lr\n",
    "        self.weight_decay = weight_decay\n",
    "        self.training_step_outputs = []\n",
    "        self.training_step_preds = []\n",
    "        self.val_step_outputs = []\n",
    "        self.val_step_preds = []\n",
    "\n",
    "    def forward(self, x):\n",
    "        return self.model.forward(x)\n",
    "    \n",
    "    def training_step(self, batch):\n",
    "        inputs = batch[\"input\"]\n",
    "        outputs = batch[\"output\"]\n",
    "        outputs_hat = self.model(inputs).squeeze()\n",
    "        train_loss = F.mse_loss(outputs_hat, outputs)\n",
    "        self.log(\"train_loss\", train_loss, on_step=True)\n",
    "        self.training_step_outputs += outputs.tolist()\n",
    "        self.training_step_preds += outputs_hat.tolist()\n",
    "        return train_loss\n",
    "\n",
    "    def validation_step(self, batch):\n",
    "        inputs = batch[\"input\"]\n",
    "        outputs = batch[\"output\"]\n",
    "        outputs_hat = self.model(inputs).squeeze()\n",
    "        val_loss = F.mse_loss(outputs_hat, outputs)\n",
    "        self.log(\"val_loss\", val_loss, on_epoch=True)\n",
    "        self.val_step_outputs += outputs.tolist()\n",
    "        self.val_step_preds += outputs_hat.tolist()\n",
    "        return val_loss\n",
    "    \n",
    "    def configure_optimizers(self):\n",
    "        optimizer = optim.AdamW(self.parameters(), lr=self.lr, weight_decay=self.weight_decay)\n",
    "        return optimizer\n",
    "    \n",
    "class Callback(pl.Callback):\n",
    "    \n",
    "    def __init__(self, dataset):\n",
    "        super().__init__()\n",
    "        self.dataset = dataset\n",
    "        self.epoch_number = 0\n",
    "        self.train_losses = []\n",
    "        self.train_r2s = []\n",
    "        self.val_losses = []\n",
    "        self.val_r2s = []\n",
    "\n",
    "\n",
    "    def on_train_epoch_end(self, trainer, pl_module):\n",
    "        \n",
    "        # Calculate loss over the epoch\n",
    "        outputs = torch.Tensor(pl_module.training_step_outputs)\n",
    "        outputs_hat = torch.Tensor(pl_module.training_step_preds)\n",
    "        train_loss_epoch = F.mse_loss(outputs_hat, outputs)\n",
    "        self.train_losses.append(train_loss_epoch.item())\n",
    "\n",
    "        # Calculate R^2 metric\n",
    "        train_r2 = r2_score(outputs, outputs_hat)\n",
    "        pl_module.log(\"train_r2\", train_r2)\n",
    "        self.train_r2s.append(train_r2)\n",
    "\n",
    "        # Reset stored outputs and preds for current epoch\n",
    "        pl_module.training_step_outputs = []\n",
    "        pl_module.training_step_preds = []\n",
    "        self.epoch_number += 1\n",
    "    \n",
    "\n",
    "    def on_validation_epoch_end(self, trainer, pl_module):\n",
    "        \n",
    "        # Calculate loss over the epoch\n",
    "        outputs = torch.Tensor(pl_module.val_step_outputs)\n",
    "        outputs_hat = torch.Tensor(pl_module.val_step_preds)\n",
    "        val_loss_epoch = F.mse_loss(outputs_hat, outputs)\n",
    "        self.val_losses.append(val_loss_epoch.item())\n",
    "\n",
    "        # Calculate R^2 metric\n",
    "        val_r2 = r2_score(outputs, outputs_hat)\n",
    "        pl_module.log(\"val_r2\", val_r2)\n",
    "        self.val_r2s.append(val_r2)\n",
    "\n",
    "        # Reset stored outputs and preds for current epoch\n",
    "        pl_module.val_step_outputs = []\n",
    "        pl_module.val_step_preds = []"
   ]
  },
  {
   "attachments": {},
   "cell_type": "markdown",
   "metadata": {},
   "source": [
    "### Load dataset and train the model"
   ]
  },
  {
   "attachments": {},
   "cell_type": "markdown",
   "metadata": {},
   "source": [
    "The trained model is saved in the path: \"checkpoints/checkpoints.ckpt\""
   ]
  },
  {
   "cell_type": "code",
   "execution_count": 20,
   "metadata": {},
   "outputs": [
    {
     "name": "stderr",
     "output_type": "stream",
     "text": [
      "GPU available: True (mps), used: True\n",
      "TPU available: False, using: 0 TPU cores\n",
      "IPU available: False, using: 0 IPUs\n",
      "HPU available: False, using: 0 HPUs\n",
      "\n",
      "  | Name  | Type          | Params\n",
      "----------------------------------------\n",
      "0 | model | CombinedModel | 4.9 K \n",
      "----------------------------------------\n",
      "4.9 K     Trainable params\n",
      "0         Non-trainable params\n",
      "4.9 K     Total params\n",
      "0.020     Total estimated model params size (MB)\n",
      "`Trainer.fit` stopped: `max_epochs=150` reached.\n"
     ]
    }
   ],
   "source": [
    "# Parameters for model and training\n",
    "d = 3 # number of modes\n",
    "b = 8 # batch size\n",
    "epochs = 150 # number of epochs\n",
    "lr = 0.0001 # learning rate\n",
    "weight_decay = 0.01 # regularization parameter, see https://pytorch.org/docs/stable/generated/torch.optim.AdamW.html\n",
    "\n",
    "# Load in dataset\n",
    "# Can change this section if custom data formatting is desired (ex: custom train/test splits funcationality, k-fold validation, etc.)\n",
    "save_path = \"checkpoints\"\n",
    "dataset = Dataset_Custom(input_train_path=input_train_path,\n",
    "                            output_train_path=output_train_path,\n",
    "                            input_val_path=input_val_path,\n",
    "                            output_val_path=output_val_path,\n",
    "                            num_modes=d,\n",
    "                            batch_size=b)\n",
    "\n",
    "# Define model\n",
    "model = CombinedModel(input_dim=dataset.input_dim,\n",
    "                      output_dim=dataset.output_dim,\n",
    "                      num_modes=dataset.num_modes,\n",
    "                      ev=False)\n",
    "model = TrainingModule(model=model,\n",
    "                      lr=lr,\n",
    "                      weight_decay=weight_decay)\n",
    "\n",
    "# Define model checkpoints\n",
    "filename = \"checkpoints/checkpoints.ckpt\"\n",
    "if os.path.exists(filename):\n",
    "    os.remove(filename)\n",
    "save_callback = ModelCheckpoint(dirpath = save_path, filename=\"checkpoints\")\n",
    "\n",
    "# Define trainer\n",
    "trainer = Trainer(max_epochs=epochs, callbacks=[Callback(dataset), save_callback], enable_progress_bar=False, logger=False)\n",
    "\n",
    "# Fit the model\n",
    "disable_possible_user_warnings()\n",
    "trainer.fit(model, train_dataloaders=dataset.train_dataloader(), val_dataloaders=dataset.val_dataloader())\n"
   ]
  },
  {
   "attachments": {},
   "cell_type": "markdown",
   "metadata": {},
   "source": [
    "### Display model logs"
   ]
  },
  {
   "cell_type": "code",
   "execution_count": 21,
   "metadata": {},
   "outputs": [
    {
     "data": {
      "image/png": "[encoded data removed]",
      "text/plain": [
       "<Figure size 640x480 with 1 Axes>"
      ]
     },
     "metadata": {},
     "output_type": "display_data"
    }
   ],
   "source": [
    "# Plot training losses\n",
    "train_losses = trainer.callbacks[0].train_losses\n",
    "plt.title(\"Training Loss\")\n",
    "plt.xlabel(\"Epoch Number\")\n",
    "plt.ylabel(\"MSE Loss\")\n",
    "plt.plot(range(len(train_losses)), train_losses)\n",
    "plt.show()\n"
   ]
  },
  {
   "cell_type": "code",
   "execution_count": 22,
   "metadata": {},
   "outputs": [
    {
     "data": {
      "image/png": "[encoded data removed]",
      "text/plain": [
       "<Figure size 640x480 with 1 Axes>"
      ]
     },
     "metadata": {},
     "output_type": "display_data"
    },
    {
     "name": "stdout",
     "output_type": "stream",
     "text": [
      "Final Train R^2 Value: 0.512509288217843\n"
     ]
    }
   ],
   "source": [
    "# Plot training R^2 values\n",
    "train_r2s = trainer.callbacks[0].train_r2s\n",
    "plt.title(\"Training R^2 Values\")\n",
    "plt.xlabel(\"Epoch Number\")\n",
    "plt.ylabel(\"R^2\")\n",
    "plt.plot(range(len(train_r2s)), train_r2s)\n",
    "plt.show()\n",
    "print(\"Final Train R^2 Value: %s\" % train_r2s[-1])"
   ]
  },
  {
   "cell_type": "code",
   "execution_count": 23,
   "metadata": {},
   "outputs": [
    {
     "data": {
      "image/png": "[encoded data removed]",
      "text/plain": [
       "<Figure size 640x480 with 1 Axes>"
      ]
     },
     "metadata": {},
     "output_type": "display_data"
    }
   ],
   "source": [
    "# Plot validation losses\n",
    "val_losses = trainer.callbacks[0].val_losses\n",
    "plt.title(\"Validation Loss\")\n",
    "plt.xlabel(\"Epoch Number\")\n",
    "plt.ylabel(\"MSE Loss\")\n",
    "plt.plot(range(len(val_losses)), val_losses)\n",
    "plt.show()"
   ]
  },
  {
   "cell_type": "code",
   "execution_count": 24,
   "metadata": {},
   "outputs": [
    {
     "data": {
      "image/png": "[encoded data removed]",
      "text/plain": [
       "<Figure size 640x480 with 1 Axes>"
      ]
     },
     "metadata": {},
     "output_type": "display_data"
    },
    {
     "name": "stdout",
     "output_type": "stream",
     "text": [
      "Final Validation R^2 Value: 0.490818146231177\n"
     ]
    }
   ],
   "source": [
    "# Plot validation R^2 values\n",
    "val_r2s = trainer.callbacks[0].val_r2s\n",
    "plt.title(\"Validation R^2 Values\")\n",
    "plt.xlabel(\"Epoch Number\")\n",
    "plt.ylabel(\"R^2\")\n",
    "plt.plot(range(len(val_r2s)), val_r2s)\n",
    "plt.show()\n",
    "print(\"Final Validation R^2 Value: %s\" % val_r2s[-1])"
   ]
  },
  {
   "attachments": {},
   "cell_type": "markdown",
   "metadata": {},
   "source": [
    "### Evaluate trained model"
   ]
  },
  {
   "attachments": {},
   "cell_type": "markdown",
   "metadata": {},
   "source": [
    "To view the learned cluster probabilities for each mode, the input training data is fed through the model again to generate the learned clusters and stored in the variable \"cluster_probs\".\n",
    "\n",
    "Note: The below code generates the cluster probabilities and final predictions for the validation set, but can be easily changed to examine results for the training set by changing the variable \"dataset_type\" from \"val\" to \"train\".\n",
    "\n",
    "Relevant Variables\n",
    "1. cm_weights: model weights for the Cluster model\n",
    "2. dm_weights: model weights for the Decoder model\n",
    "3. cluster_probs: learned cluster probabilities for each mode, has shape of (num_samples, num_modes)\n",
    "4. train_outputs: ground truth values for output data, has shape of (num_samples, output_dim)\n",
    "5. final_preds: final predictions from the model, has shape of (num_samples, output_dim)\n",
    "\n",
    "*Sanity check: \"final_preds\" values should be similar to \"train_outputs\"\n"
   ]
  },
  {
   "cell_type": "code",
   "execution_count": 25,
   "metadata": {},
   "outputs": [
    {
     "name": "stdout",
     "output_type": "stream",
     "text": [
      "Learned validation cluster probabilities:\n",
      "tensor([[0.9576, 0.0295, 0.0129],\n",
      "        [0.9397, 0.0475, 0.0128],\n",
      "        [0.9423, 0.0499, 0.0078],\n",
      "        ...,\n",
      "        [0.9699, 0.0047, 0.0254],\n",
      "        [0.9587, 0.0054, 0.0359],\n",
      "        [0.9539, 0.0065, 0.0395]])\n",
      "\n",
      "Final validation predictions:\n",
      "tensor([[17.8246, 26.0660, 34.2081,  ..., 12.2937, 21.2492, 18.5404],\n",
      "        [18.6053, 26.7015, 35.3315,  ..., 12.9283, 21.6689, 19.7942],\n",
      "        [19.6025, 27.5090, 36.1389,  ..., 13.8059, 21.8716, 21.1572],\n",
      "        ...,\n",
      "        [ 9.6686, 13.1041, 23.8985,  ...,  9.8521, 14.2921, 16.2041],\n",
      "        [11.1872, 15.6904, 26.1042,  ..., 10.6316, 16.4386, 17.7737],\n",
      "        [12.3538, 17.6766, 27.6738,  ..., 10.9108, 17.4795, 18.4253]])\n",
      "\n",
      "Output validation labels:\n",
      "tensor([[ 9.2750, 18.3844, 28.8717,  ...,  4.7481,  5.0986,  6.0983],\n",
      "        [ 9.3761, 19.0393, 33.2921,  ...,  5.2788,  5.0864,  6.6207],\n",
      "        [ 8.5637, 24.0002, 43.1008,  ...,  5.4384,  5.1283,  6.8718],\n",
      "        ...,\n",
      "        [ 4.5639,  3.0898,  4.6073,  ...,  3.0898,  3.7378,  4.5351],\n",
      "        [ 4.3516,  3.2918,  4.9081,  ...,  3.2883,  3.6775,  4.8896],\n",
      "        [ 4.2042,  3.7280,  5.5961,  ...,  3.8147,  3.9530,  5.6091]])\n"
     ]
    }
   ],
   "source": [
    "# Access dataset of interest\n",
    "# dataset_type = \"train\"\n",
    "dataset_type = \"validation\"\n",
    "if dataset_type == \"train\":\n",
    "    curr_dataset = dataset.train_dataset\n",
    "elif dataset_type == \"validation\":\n",
    "    curr_dataset = dataset.val_dataset\n",
    "\n",
    "# Load trained model\n",
    "model_path = filename\n",
    "model = CombinedModel(input_dim=dataset.input_dim,\n",
    "                      output_dim=dataset.output_dim,\n",
    "                      num_modes=dataset.num_modes, \n",
    "                      ev=True)\n",
    "checkpoint = torch.load(model_path)\n",
    "state_dict = checkpoint[\"state_dict\"]\n",
    "model = TrainingModule(model=model,\n",
    "                       lr=lr,\n",
    "                       weight_decay=weight_decay)\n",
    "model.load_state_dict(state_dict)\n",
    "\n",
    "# Extract learned cluster model weights\n",
    "cm_weights = model.model.cm.parameters()\n",
    "\n",
    "# Extract learned decoder model weights\n",
    "dm_weights = model.model.dm.parameters()\n",
    "\n",
    "# Calculate learned cluster probabilities\n",
    "\"\"\"\n",
    "Output learned clusters will be of shape (num_samples, num_modes)\n",
    "Ex: [0.0000, 0.0017, 0.9983] for num_modes=3 means the model learned that using 99.83% of mode 3 resulted in best performance\n",
    "\"\"\"\n",
    "cluster_probs = []\n",
    "for sample in curr_dataset:\n",
    "    x = sample[0].unsqueeze(0)\n",
    "    curr_probs = model.forward(x)\n",
    "    cluster_probs.append(curr_probs.squeeze())\n",
    "cluster_probs = torch.stack(cluster_probs).detach()\n",
    "torch.set_printoptions(sci_mode=False)\n",
    "print(\"Learned %s cluster probabilities:\\n%s\" % (dataset_type, cluster_probs))\n",
    "\n",
    "# Calculate final predictions\n",
    "\"\"\"\n",
    "Output predictions will be of shape (num_samples, output_dim)\n",
    "\"\"\"\n",
    "model.model.ev = False\n",
    "final_preds = []\n",
    "for sample in curr_dataset:\n",
    "    x = sample[0].unsqueeze(0)\n",
    "    pred = model.forward(x)\n",
    "    final_preds.append(pred.squeeze())\n",
    "final_preds = torch.stack(final_preds).detach()\n",
    "print(\"\\nFinal %s predictions:\\n%s\" % (dataset_type, final_preds))\n",
    "\n",
    "# Extract ground truth validation labels\n",
    "curr_dataset_outputs = torch.stack([sample[1] for sample in curr_dataset])\n",
    "print(\"\\nOutput %s labels:\\n%s\" % (dataset_type, curr_dataset_outputs))"
   ]
  }
 ],
 "metadata": {
  "kernelspec": {
   "display_name": "decoding_venv",
   "language": "python",
   "name": "python3"
  },
  "language_info": {
   "codemirror_mode": {
    "name": "ipython",
    "version": 3
   },
   "file_extension": ".py",
   "mimetype": "text/x-python",
   "name": "python",
   "nbconvert_exporter": "python",
   "pygments_lexer": "ipython3",
   "version": "3.9.6"
  },
  "orig_nbformat": 4
 },
 "nbformat": 4,
 "nbformat_minor": 2
}
